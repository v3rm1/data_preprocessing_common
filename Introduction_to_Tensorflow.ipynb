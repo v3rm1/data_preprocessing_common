{
 "cells": [
  {
   "cell_type": "markdown",
   "metadata": {},
   "source": [
    "# Introduction to TensorFlow\n",
    "\n",
    "[TensorFlow](https://www.tensorflow.org) is a free and open-source library, maintained by Google. TensorFlow was designed for differentiable programming and dataflow tasks, which allows us to implement neural networks and machine learning algorithms utilizing the library.\n",
    "\n",
    "TensorFlow is written in C, with Python wrappers and ports to JavaScript, C++, C#, Swift and Julia. TensorFlow allows users to create static dataflow graphs with operations associated to nodes and run the graph at execution. Later verions of TensorFlow use [Eager Execution](https://www.tensorflow.org/guide/eager) abstract the graph creation, allowing users to program the networks \"on the go\".\n",
    "\n",
    "\n",
    "The  Python TensorFlow ecosystem allows users to use the library using two interfaces:\n",
    "* ```tf.keras```: The high level API, with pythonic syntax and better readability. A lot of the graph construction and mathematics is abstracted into Keras methods.\n",
    "* ```tf```: The low level API, allows users to create dataflow graphs and tune them. Requires deeper insight into programming and mathematics.\n",
    "---"
   ]
  },
  {
   "cell_type": "markdown",
   "metadata": {},
   "source": [
    "## 1. Tensors: Declaration of tensors and simple tensor operations\n",
    "\n",
    "A tensor is a generalization of scalars, vectors and matrices to an arbitrary number of indices\\[[WolframAlpha](https://www.wolframalpha.com/input/?i=tensor)\\]. In computational terms, we represent tensors as $n$-dimensional arrays. Tensors are useful to describe the multilinear relationships between a set of algebraic objects in a vector space.\n",
    "\n",
    "TensorFlow creates dataflow graphs, as described in the introduction. Each node is associated with an operation, which is conditionally performed on an input. The data that flows through the graph is defined in forms of the following tensors:\n",
    "\n",
    "* **Scalar:** A scalar is a rank zero tensor that contains only numerical magnitude. \n",
    "\n",
    "* **Vector:** A vector is a rank one tensor that contains numerical magnitude and a direction that relates it to other tensors. \n",
    "\n",
    "* **Matrix:** A matrix is ranked 2 an dis considered a table of relations between vectors in the vector space. \n",
    "\n",
    "* **n-Dimensional Tensor:** $n$-Dimensional tensors (represented in memory as an array of arrays, $n$-times) are useful for storing high dimensional data, such as multi-channel images(RGBa).\n",
    "\n",
    "TensorFlow supports the standard python data types bh default. However, there are a few extra data types for representing complex numbers and quantized integers.\n",
    "For a complete list of data types supported by TensorFlow, visit (https://www.tensorflow.org/api_docs/python/tf/dtypes/DType).\n",
    "\n",
    "**Declaring tensors**\n",
    "\n",
    "In the following section, the syntax for declaring tensors is discussed."
   ]
  },
  {
   "cell_type": "code",
   "execution_count": 3,
   "metadata": {},
   "outputs": [],
   "source": [
    "# Import necessary libraries\n",
    "import tensorflow as tf\n",
    "import numpy as np"
   ]
  },
  {
   "cell_type": "code",
   "execution_count": 4,
   "metadata": {},
   "outputs": [],
   "source": [
    "# Store Euler's number as a scalar float\n",
    "scalar = tf.Variable(2.7182818284, tf.float64)\n",
    "\n",
    "# Store Hello, World into a string vector\n",
    "vector = tf.Variable([\"Hello\", \"World\"], tf.string)\n",
    "\n",
    "# Define 3*3 matrices, one containing 9 odd numbers and the other containing 9 even numbers\n",
    "mat_1 = tf.Variable([[1, 3, 5], [7, 9, 11], [13, 15, 17]], tf.int16)\n",
    "mat_2 = tf.Variable([[2, 4, 6], [8, 10, 12], [14, 16, 18]], tf.int16)\n",
    "\n",
    "# Define a 4-dimensional tensor that contains an image in the format batch x height x width x color\n",
    "# The image is initialized using tensorflow.zeros, which initializes all elements in a tensor to 0\n",
    "# An alternative is to use the tensorflow.ones command to set all values to 1\n",
    "img_tensor = tf.zeros([5, 32, 32, 3])\n"
   ]
  },
  {
   "cell_type": "markdown",
   "metadata": {},
   "source": [
    "The data a tensor contains can be viewed using one of the following methods:"
   ]
  },
  {
   "cell_type": "code",
   "execution_count": 6,
   "metadata": {},
   "outputs": [
    {
     "name": "stdout",
     "output_type": "stream",
     "text": [
      "<tf.Variable 'Variable:0' shape=(3, 3) dtype=int32, numpy=\n",
      "array([[ 2,  4,  6],\n",
      "       [ 8, 10, 12],\n",
      "       [14, 16, 18]], dtype=int32)>\n"
     ]
    }
   ],
   "source": [
    "# python print statement\n",
    "print(mat_2)"
   ]
  },
  {
   "cell_type": "code",
   "execution_count": 5,
   "metadata": {},
   "outputs": [
    {
     "data": {
      "text/plain": [
       "<tf.Tensor: shape=(), dtype=int32, numpy=2>"
      ]
     },
     "execution_count": 5,
     "metadata": {},
     "output_type": "execute_result"
    }
   ],
   "source": [
    "# tensorflow.rank\n",
    "tf.rank(mat_1)"
   ]
  },
  {
   "cell_type": "code",
   "execution_count": 7,
   "metadata": {},
   "outputs": [
    {
     "data": {
      "text/plain": [
       "<tf.Tensor: shape=(4,), dtype=int32, numpy=array([ 5, 32, 32,  3], dtype=int32)>"
      ]
     },
     "execution_count": 7,
     "metadata": {},
     "output_type": "execute_result"
    }
   ],
   "source": [
    "# tensorflow.shape\n",
    "tf.shape(img_tensor)"
   ]
  },
  {
   "cell_type": "markdown",
   "metadata": {},
   "source": [
    "The three methods produce significantly different outputs, with the rank method only returning the rank and data type of the tensor, while the shape returns the shape, the dimensions and the data type.\n",
    "The print statement displays the entire tensor, whichis not ideal when working with large tensors, such as arrays of images.\n",
    "\n",
    "It is also possible to slice tensors using the same indexing logic as in numpy arrays."
   ]
  },
  {
   "cell_type": "code",
   "execution_count": 28,
   "metadata": {},
   "outputs": [
    {
     "name": "stdout",
     "output_type": "stream",
     "text": [
      "tf.Tensor([1 3 5], shape=(3,), dtype=int32)\n",
      "tf.Tensor([ 6 12 18], shape=(3,), dtype=int32)\n"
     ]
    }
   ],
   "source": [
    "mat_slc_1 = mat_1[0]\n",
    "print(mat_slc_1)\n",
    "mat_slc_2 = mat_2[:,2]\n",
    "print(mat_slc_2)"
   ]
  },
  {
   "cell_type": "markdown",
   "metadata": {},
   "source": [
    "In the following code blocks, basic tensor operations are reviewed:"
   ]
  },
  {
   "cell_type": "code",
   "execution_count": 34,
   "metadata": {},
   "outputs": [
    {
     "name": "stdout",
     "output_type": "stream",
     "text": [
      "\n",
      "Elementwise Addition:\n",
      " tf.Tensor(\n",
      "[[ 3  7 11]\n",
      " [15 19 23]\n",
      " [27 31 35]], shape=(3, 3), dtype=int32)\n",
      "\n",
      "Elementwise Subtraction:\n",
      " tf.Tensor(\n",
      "[[-1 -1 -1]\n",
      " [-1 -1 -1]\n",
      " [-1 -1 -1]], shape=(3, 3), dtype=int32)\n",
      "\n",
      "Matrix multiplication:\n",
      " tf.Tensor(\n",
      "[[ 96 114 132]\n",
      " [240 294 348]\n",
      " [384 474 564]], shape=(3, 3), dtype=int32)\n"
     ]
    }
   ],
   "source": [
    "# Elementwise addition\n",
    "add_mat = tf.add(mat_1, mat_2)\n",
    "print(\"\\nElementwise Addition:\\n\", add_mat)\n",
    "\n",
    "# Elementwise subtraction\n",
    "add_mat = tf.subtract(mat_1, mat_2)\n",
    "print(\"\\nElementwise Subtraction:\\n\", add_mat)\n",
    "\n",
    "# Matrix multiplication\n",
    "add_mat = tf.matmul(mat_1, mat_2)\n",
    "print(\"\\nMatrix multiplication:\\n\", add_mat)"
   ]
  },
  {
   "cell_type": "code",
   "execution_count": 36,
   "metadata": {},
   "outputs": [
    {
     "name": "stdout",
     "output_type": "stream",
     "text": [
      "Original Matrix:\n",
      " <tf.Variable 'Variable:0' shape=(3, 3) dtype=int32, numpy=\n",
      "array([[ 2,  4,  6],\n",
      "       [ 8, 10, 12],\n",
      "       [14, 16, 18]], dtype=int32)>\n",
      "\n",
      "Matrix Transpose:\n",
      " tf.Tensor(\n",
      "[[ 2  8 14]\n",
      " [ 4 10 16]\n",
      " [ 6 12 18]], shape=(3, 3), dtype=int32)\n"
     ]
    }
   ],
   "source": [
    "# Transpose of a matrix\n",
    "print(\"Original Matrix:\\n\", mat_2)\n",
    "print(\"\\nMatrix Transpose:\\n\", tf.transpose(mat_2))"
   ]
  },
  {
   "cell_type": "markdown",
   "metadata": {},
   "source": [
    "Similarly, functions for most mathematical operations are available built into the package. The full list of functions can be found in the [tf.math](https://www.tensorflow.org/api_docs/python/tf/math) module.\n",
    "\n",
    "---"
   ]
  },
  {
   "cell_type": "markdown",
   "metadata": {},
   "source": [
    "## 2. Binary classification"
   ]
  },
  {
   "cell_type": "code",
   "execution_count": 37,
   "metadata": {},
   "outputs": [],
   "source": [
    "import tensorflow_datasets as tfds\n",
    "# tfds."
   ]
  },
  {
   "cell_type": "code",
   "execution_count": 38,
   "metadata": {},
   "outputs": [
    {
     "data": {
      "text/plain": [
       "['abstract_reasoning',\n",
       " 'aeslc',\n",
       " 'aflw2k3d',\n",
       " 'amazon_us_reviews',\n",
       " 'arc',\n",
       " 'bair_robot_pushing_small',\n",
       " 'big_patent',\n",
       " 'bigearthnet',\n",
       " 'billsum',\n",
       " 'binarized_mnist',\n",
       " 'binary_alpha_digits',\n",
       " 'c4',\n",
       " 'caltech101',\n",
       " 'caltech_birds2010',\n",
       " 'caltech_birds2011',\n",
       " 'cars196',\n",
       " 'cassava',\n",
       " 'cats_vs_dogs',\n",
       " 'celeb_a',\n",
       " 'celeb_a_hq',\n",
       " 'chexpert',\n",
       " 'cifar10',\n",
       " 'cifar100',\n",
       " 'cifar10_1',\n",
       " 'cifar10_corrupted',\n",
       " 'citrus_leaves',\n",
       " 'cityscapes',\n",
       " 'civil_comments',\n",
       " 'clevr',\n",
       " 'cmaterdb',\n",
       " 'cnn_dailymail',\n",
       " 'coco',\n",
       " 'coil100',\n",
       " 'colorectal_histology',\n",
       " 'colorectal_histology_large',\n",
       " 'cos_e',\n",
       " 'curated_breast_imaging_ddsm',\n",
       " 'cycle_gan',\n",
       " 'deep_weeds',\n",
       " 'definite_pronoun_resolution',\n",
       " 'diabetic_retinopathy_detection',\n",
       " 'dmlab',\n",
       " 'downsampled_imagenet',\n",
       " 'dsprites',\n",
       " 'dtd',\n",
       " 'duke_ultrasound',\n",
       " 'dummy_dataset_shared_generator',\n",
       " 'dummy_mnist',\n",
       " 'emnist',\n",
       " 'esnli',\n",
       " 'eurosat',\n",
       " 'fashion_mnist',\n",
       " 'flic',\n",
       " 'flores',\n",
       " 'food101',\n",
       " 'gap',\n",
       " 'gigaword',\n",
       " 'glue',\n",
       " 'groove',\n",
       " 'higgs',\n",
       " 'horses_or_humans',\n",
       " 'i_naturalist2017',\n",
       " 'image_label_folder',\n",
       " 'imagenet2012',\n",
       " 'imagenet2012_corrupted',\n",
       " 'imagenet_resized',\n",
       " 'imagenette',\n",
       " 'imdb_reviews',\n",
       " 'iris',\n",
       " 'kitti',\n",
       " 'kmnist',\n",
       " 'lfw',\n",
       " 'lm1b',\n",
       " 'lost_and_found',\n",
       " 'lsun',\n",
       " 'malaria',\n",
       " 'math_dataset',\n",
       " 'mnist',\n",
       " 'mnist_corrupted',\n",
       " 'movie_rationales',\n",
       " 'moving_mnist',\n",
       " 'multi_news',\n",
       " 'multi_nli',\n",
       " 'multi_nli_mismatch',\n",
       " 'newsroom',\n",
       " 'nsynth',\n",
       " 'omniglot',\n",
       " 'open_images_v4',\n",
       " 'oxford_flowers102',\n",
       " 'oxford_iiit_pet',\n",
       " 'para_crawl',\n",
       " 'patch_camelyon',\n",
       " 'pet_finder',\n",
       " 'places365_small',\n",
       " 'plant_leaves',\n",
       " 'plant_village',\n",
       " 'plantae_k',\n",
       " 'quickdraw_bitmap',\n",
       " 'reddit_tifu',\n",
       " 'resisc45',\n",
       " 'rock_paper_scissors',\n",
       " 'rock_you',\n",
       " 'scan',\n",
       " 'scene_parse150',\n",
       " 'scicite',\n",
       " 'scientific_papers',\n",
       " 'shapes3d',\n",
       " 'smallnorb',\n",
       " 'snli',\n",
       " 'so2sat',\n",
       " 'squad',\n",
       " 'stanford_dogs',\n",
       " 'stanford_online_products',\n",
       " 'starcraft_video',\n",
       " 'sun397',\n",
       " 'super_glue',\n",
       " 'svhn_cropped',\n",
       " 'ted_hrlr_translate',\n",
       " 'ted_multi_translate',\n",
       " 'tf_flowers',\n",
       " 'the300w_lp',\n",
       " 'titanic',\n",
       " 'trivia_qa',\n",
       " 'uc_merced',\n",
       " 'ucf101',\n",
       " 'vgg_face2',\n",
       " 'visual_domain_decathlon',\n",
       " 'voc',\n",
       " 'wider_face',\n",
       " 'wikihow',\n",
       " 'wikipedia',\n",
       " 'wmt14_translate',\n",
       " 'wmt15_translate',\n",
       " 'wmt16_translate',\n",
       " 'wmt17_translate',\n",
       " 'wmt18_translate',\n",
       " 'wmt19_translate',\n",
       " 'wmt_t2t_translate',\n",
       " 'wmt_translate',\n",
       " 'xnli',\n",
       " 'xsum']"
      ]
     },
     "execution_count": 38,
     "metadata": {},
     "output_type": "execute_result"
    }
   ],
   "source": [
    "tfds.list_builders()"
   ]
  },
  {
   "cell_type": "code",
   "execution_count": null,
   "metadata": {},
   "outputs": [],
   "source": []
  }
 ],
 "metadata": {
  "colab": {
   "collapsed_sections": [],
   "name": "Introduction_to_Tensorflow.ipynb",
   "provenance": []
  },
  "kernelspec": {
   "display_name": "Python 3",
   "language": "python",
   "name": "python3"
  },
  "language_info": {
   "codemirror_mode": {
    "name": "ipython",
    "version": 3
   },
   "file_extension": ".py",
   "mimetype": "text/x-python",
   "name": "python",
   "nbconvert_exporter": "python",
   "pygments_lexer": "ipython3",
   "version": "3.7.3"
  },
  "widgets": {
   "application/vnd.jupyter.widget-state+json": {
    "c779fed1efbd4973a1eaba6c397b6c26": {
     "model_module": "@jupyter-widgets/controls",
     "model_name": "HBoxModel",
     "state": {
      "_dom_classes": [],
      "_model_module": "@jupyter-widgets/controls",
      "_model_module_version": "1.5.0",
      "_model_name": "HBoxModel",
      "_view_count": null,
      "_view_module": "@jupyter-widgets/controls",
      "_view_module_version": "1.5.0",
      "_view_name": "HBoxView",
      "box_style": "",
      "children": [
       "IPY_MODEL_f2bfad3a2f994504853d64206b37b18d",
       "IPY_MODEL_34076d0678984679ae18a4abfd5da883"
      ],
      "layout": "IPY_MODEL_2a8f1ad9a326479f9958ace061f11c76"
     }
    },
    "d6f6b444540643ec8a5a4abb8f5099e2": {
     "model_module": "@jupyter-widgets/controls",
     "model_name": "HBoxModel",
     "state": {
      "_dom_classes": [],
      "_model_module": "@jupyter-widgets/controls",
      "_model_module_version": "1.5.0",
      "_model_name": "HBoxModel",
      "_view_count": null,
      "_view_module": "@jupyter-widgets/controls",
      "_view_module_version": "1.5.0",
      "_view_name": "HBoxView",
      "box_style": "",
      "children": [
       "IPY_MODEL_d27b1d94b3f240af8a7dc46a51659128",
       "IPY_MODEL_70049947c88a405888d2ce440115048f"
      ],
      "layout": "IPY_MODEL_205451964420416dbe9a881645d057f2"
     }
    },
    "ed9b866496fd4f93beb3368873d293a7": {
     "model_module": "@jupyter-widgets/controls",
     "model_name": "HBoxModel",
     "state": {
      "_dom_classes": [],
      "_model_module": "@jupyter-widgets/controls",
      "_model_module_version": "1.5.0",
      "_model_name": "HBoxModel",
      "_view_count": null,
      "_view_module": "@jupyter-widgets/controls",
      "_view_module_version": "1.5.0",
      "_view_name": "HBoxView",
      "box_style": "",
      "children": [
       "IPY_MODEL_9c3705cd05d64d69b5c6cd1e08a5eeac",
       "IPY_MODEL_d614e3813f254029a07cdeb893a39170"
      ],
      "layout": "IPY_MODEL_dbf47d68667a4ff8a6a50cccbc713452"
     }
    },
    "f9a250c4fd0c4633834382d2f0ba3e0a": {
     "model_module": "@jupyter-widgets/controls",
     "model_name": "HBoxModel",
     "state": {
      "_dom_classes": [],
      "_model_module": "@jupyter-widgets/controls",
      "_model_module_version": "1.5.0",
      "_model_name": "HBoxModel",
      "_view_count": null,
      "_view_module": "@jupyter-widgets/controls",
      "_view_module_version": "1.5.0",
      "_view_name": "HBoxView",
      "box_style": "",
      "children": [
       "IPY_MODEL_2ca876dc94b143e5a487947929f0defe",
       "IPY_MODEL_ba1949f8388c4c2eaa57fc97f6edc183"
      ],
      "layout": "IPY_MODEL_3cb4bd3c8fb34d6b948a34eae90216f6"
     }
    }
   }
  }
 },
 "nbformat": 4,
 "nbformat_minor": 4
}
