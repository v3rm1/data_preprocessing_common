{
 "cells": [
  {
   "cell_type": "code",
   "execution_count": 0,
   "metadata": {
    "colab": {},
    "colab_type": "code",
    "id": "BPaph6Ph89w5"
   },
   "outputs": [],
   "source": [
    "import tensorflow as tf\n",
    "import tensorflow_datasets as tfds\n",
    "\n",
    "from matplotlib import pyplot as plt\n"
   ]
  },
  {
   "cell_type": "markdown",
   "metadata": {
    "colab_type": "text",
    "id": "fF39SV6QqtXj"
   },
   "source": [
    "Declaring and Manipulating Tensors\n",
    "\n",
    "Here, we will declare a set of points and attempt to use tensorflow to fit a linear regression line to the points. This is a derivation of the [Simple Linear Regression with Tf 2.0](https://github.com/WooilJeong/TensorFlow/blob/master/01%20Simple%20Linear%20Regression.ipynb) code as written by W. Jeong."
   ]
  },
  {
   "cell_type": "code",
   "execution_count": 20,
   "metadata": {
    "colab": {
     "base_uri": "https://localhost:8080/",
     "height": 282
    },
    "colab_type": "code",
    "id": "pfqMfh0BqxX_",
    "outputId": "2bff78c9-71cd-4c16-cb7c-f0ab77962091"
   },
   "outputs": [
    {
     "data": {
      "text/plain": [
       "<matplotlib.collections.PathCollection at 0x7f9eaca70ac8>"
      ]
     },
     "execution_count": 20,
     "metadata": {
      "tags": []
     },
     "output_type": "execute_result"
    },
    {
     "data": {
      "image/png": "[encoded data removed]",
      "text/plain": [
       "<Figure size 432x288 with 1 Axes>"
      ]
     },
     "metadata": {
      "tags": []
     },
     "output_type": "display_data"
    }
   ],
   "source": [
    "x = [-20, -19, -18, -17, -16, -15, -14, -13, -12, -11, -10, -9, -8, -7, -6, -5, -4, -3, -2, -1, 0, 1, 2, 3, 4, 5, 6, 7, 8, 9] \n",
    "y = [-98.38, -58.49, -79.61, -67.03, -68.86, -73.48, -46.22, -40.71, -30.80, -47.46, -49.03, -3.76, -1.51, -48.29, -14.73, -46.90, -22.38, -27.38, -1.15, -4.85, 38.80, 0.84, 2.03, -4.26, 7.31, -12.31, -13.26, -11.74, 28.64, 42.75\n",
    "]\n",
    "\n",
    "fig, ax = plt.subplots()\n",
    "ax.scatter(x, y)"
   ]
  },
  {
   "cell_type": "markdown",
   "metadata": {
    "colab_type": "text",
    "id": "Sb3J4iwzx2gq"
   },
   "source": [
    "The equation for a linear model is $y = wx + b$, where\n",
    "\n",
    "* $y$ is the dependant variable (target)\n",
    "\n",
    "* $x$ is the independant variable (predictor)\n",
    "\n",
    "* $w$ is the weight vector\n",
    "\n",
    "* $b$ is the bias vector\n",
    "\n",
    "The process of fitting a line involves training of the parameters $w$ and $b$ based on the data we plotted above."
   ]
  },
  {
   "cell_type": "code",
   "execution_count": 0,
   "metadata": {
    "colab": {},
    "colab_type": "code",
    "id": "DBR3JNb5xzCX"
   },
   "outputs": [],
   "source": [
    "w = tf.Variable(0) # Initializing a zero weight vector\n",
    "b = tf.Variable(0.1) # Initializing a low bias value\n",
    "learning_rate = 0.001 # Defining a learning rate for Gradient Descent\n",
    "\n",
    "err = []\n",
    "for stp in range(0, 100):\n",
    "  # Programming the gradient calculation and descent\n",
    "  with tf.GradientTape() as grad_tape:\n",
    "    y_hat = w * x + b\n",
    "    error = tf.reduce_mean(tf.square())\n",
    "  \n",
    "  w_update, b_update = grad_tape.gradient(error, [w, b])\n",
    "  w.assign_sub(learning_rate * w_update)\n",
    "  b.assign_sub(learning_rate * b_update)\n",
    "\n",
    "  err.append(error.numpy())\n",
    "\n"
   ]
  },
  {
   "cell_type": "markdown",
   "metadata": {
    "colab_type": "text",
    "id": "rc0SvvnVoA9c"
   },
   "source": [
    "Tensorflow offers easy access to various commonly available datasets through the Tensorflow Datasets API. List of all Tensorflow Datasets can be seen by running the following code\n",
    "\n",
    "```tfds.list_builders()```\n",
    "\n",
    "_Please make sure that the Tensorflow Dataset package is installed via pip or conda._"
   ]
  },
  {
   "cell_type": "markdown",
   "metadata": {
    "colab_type": "text",
    "id": "cWqyO3sMoU2e"
   },
   "source": [
    "Loading a Dataset"
   ]
  },
  {
   "cell_type": "code",
   "execution_count": 0,
   "metadata": {
    "colab": {
     "base_uri": "https://localhost:8080/",
     "height": 122,
     "referenced_widgets": [
      "c779fed1efbd4973a1eaba6c397b6c26",
      "f9a250c4fd0c4633834382d2f0ba3e0a",
      "ed9b866496fd4f93beb3368873d293a7",
      "d6f6b444540643ec8a5a4abb8f5099e2"
     ]
    },
    "colab_type": "code",
    "id": "RQcGQX6BpBSl",
    "outputId": "be8e020b-2e6b-4578-9694-0e023ac14952"
   },
   "outputs": [
    {
     "name": "stdout",
     "output_type": "stream",
     "text": [
      "\u001b[1mDownloading and preparing dataset cifar10 (162.17 MiB) to /root/tensorflow_datasets/cifar10/3.0.0...\u001b[0m\n"
     ]
    },
    {
     "data": {
      "application/vnd.jupyter.widget-view+json": {
       "model_id": "c779fed1efbd4973a1eaba6c397b6c26",
       "version_major": 2,
       "version_minor": 0
      },
      "text/plain": [
       "HBox(children=(IntProgress(value=1, bar_style='info', description='Dl Completed...', max=1, style=ProgressStyl…"
      ]
     },
     "metadata": {
      "tags": []
     },
     "output_type": "display_data"
    },
    {
     "data": {
      "application/vnd.jupyter.widget-view+json": {
       "model_id": "f9a250c4fd0c4633834382d2f0ba3e0a",
       "version_major": 2,
       "version_minor": 0
      },
      "text/plain": [
       "HBox(children=(IntProgress(value=1, bar_style='info', description='Dl Size...', max=1, style=ProgressStyle(des…"
      ]
     },
     "metadata": {
      "tags": []
     },
     "output_type": "display_data"
    },
    {
     "data": {
      "application/vnd.jupyter.widget-view+json": {
       "model_id": "ed9b866496fd4f93beb3368873d293a7",
       "version_major": 2,
       "version_minor": 0
      },
      "text/plain": [
       "HBox(children=(IntProgress(value=1, bar_style='info', description='Extraction completed...', max=1, style=Prog…"
      ]
     },
     "metadata": {
      "tags": []
     },
     "output_type": "display_data"
    },
    {
     "name": "stdout",
     "output_type": "stream",
     "text": [
      "\n",
      "\n",
      "\n",
      "\n"
     ]
    },
    {
     "data": {
      "application/vnd.jupyter.widget-view+json": {
       "model_id": "d6f6b444540643ec8a5a4abb8f5099e2",
       "version_major": 2,
       "version_minor": 0
      },
      "text/plain": [
       "HBox(children=(IntProgress(value=1, bar_style='info', max=1), HTML(value='')))"
      ]
     },
     "metadata": {
      "tags": []
     },
     "output_type": "display_data"
    }
   ],
   "source": [
    "cifar10_train = tfds.load(name=\"cifar10\", split=\"train\")\n",
    "cifar10_test = tfds.load(name=\"cifar10\", split=\"test\")\n",
    "\n",
    "assert isinstance(cifar10_train, tf.data.Dataset)\n",
    "print(cifar10_train)"
   ]
  },
  {
   "cell_type": "markdown",
   "metadata": {
    "colab_type": "text",
    "id": "0AhnyXpLpPYa"
   },
   "source": [
    "For more details on using the Tensorflow Datasets class and related functions such as the declaration and usage of input pipelines and visualization, visit the following link:\n",
    "https://www.tensorflow.org/datasets/overview"
   ]
  }
 ],
 "metadata": {
  "colab": {
   "collapsed_sections": [],
   "name": "Introduction_to_Tensorflow.ipynb",
   "provenance": []
  },
  "kernelspec": {
   "display_name": "Python 3",
   "language": "python",
   "name": "python3"
  },
  "language_info": {
   "codemirror_mode": {
    "name": "ipython",
    "version": 3
   },
   "file_extension": ".py",
   "mimetype": "text/x-python",
   "name": "python",
   "nbconvert_exporter": "python",
   "pygments_lexer": "ipython3",
   "version": "3.7.3"
  },
  "widgets": {
   "application/vnd.jupyter.widget-state+json": {
    "c779fed1efbd4973a1eaba6c397b6c26": {
     "model_module": "@jupyter-widgets/controls",
     "model_name": "HBoxModel",
     "state": {
      "_dom_classes": [],
      "_model_module": "@jupyter-widgets/controls",
      "_model_module_version": "1.5.0",
      "_model_name": "HBoxModel",
      "_view_count": null,
      "_view_module": "@jupyter-widgets/controls",
      "_view_module_version": "1.5.0",
      "_view_name": "HBoxView",
      "box_style": "",
      "children": [
       "IPY_MODEL_f2bfad3a2f994504853d64206b37b18d",
       "IPY_MODEL_34076d0678984679ae18a4abfd5da883"
      ],
      "layout": "IPY_MODEL_2a8f1ad9a326479f9958ace061f11c76"
     }
    },
    "d6f6b444540643ec8a5a4abb8f5099e2": {
     "model_module": "@jupyter-widgets/controls",
     "model_name": "HBoxModel",
     "state": {
      "_dom_classes": [],
      "_model_module": "@jupyter-widgets/controls",
      "_model_module_version": "1.5.0",
      "_model_name": "HBoxModel",
      "_view_count": null,
      "_view_module": "@jupyter-widgets/controls",
      "_view_module_version": "1.5.0",
      "_view_name": "HBoxView",
      "box_style": "",
      "children": [
       "IPY_MODEL_d27b1d94b3f240af8a7dc46a51659128",
       "IPY_MODEL_70049947c88a405888d2ce440115048f"
      ],
      "layout": "IPY_MODEL_205451964420416dbe9a881645d057f2"
     }
    },
    "ed9b866496fd4f93beb3368873d293a7": {
     "model_module": "@jupyter-widgets/controls",
     "model_name": "HBoxModel",
     "state": {
      "_dom_classes": [],
      "_model_module": "@jupyter-widgets/controls",
      "_model_module_version": "1.5.0",
      "_model_name": "HBoxModel",
      "_view_count": null,
      "_view_module": "@jupyter-widgets/controls",
      "_view_module_version": "1.5.0",
      "_view_name": "HBoxView",
      "box_style": "",
      "children": [
       "IPY_MODEL_9c3705cd05d64d69b5c6cd1e08a5eeac",
       "IPY_MODEL_d614e3813f254029a07cdeb893a39170"
      ],
      "layout": "IPY_MODEL_dbf47d68667a4ff8a6a50cccbc713452"
     }
    },
    "f9a250c4fd0c4633834382d2f0ba3e0a": {
     "model_module": "@jupyter-widgets/controls",
     "model_name": "HBoxModel",
     "state": {
      "_dom_classes": [],
      "_model_module": "@jupyter-widgets/controls",
      "_model_module_version": "1.5.0",
      "_model_name": "HBoxModel",
      "_view_count": null,
      "_view_module": "@jupyter-widgets/controls",
      "_view_module_version": "1.5.0",
      "_view_name": "HBoxView",
      "box_style": "",
      "children": [
       "IPY_MODEL_2ca876dc94b143e5a487947929f0defe",
       "IPY_MODEL_ba1949f8388c4c2eaa57fc97f6edc183"
      ],
      "layout": "IPY_MODEL_3cb4bd3c8fb34d6b948a34eae90216f6"
     }
    }
   }
  }
 },
 "nbformat": 4,
 "nbformat_minor": 1
}
